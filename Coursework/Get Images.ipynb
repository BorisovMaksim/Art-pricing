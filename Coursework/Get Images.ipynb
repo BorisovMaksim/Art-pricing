{
 "cells": [
  {
   "cell_type": "code",
   "execution_count": 1,
   "metadata": {},
   "outputs": [],
   "source": [
    "import numpy as np \n",
    "import pandas as pd\n",
    "import seaborn as sns\n",
    "import matplotlib.pyplot as plt"
   ]
  },
  {
   "cell_type": "code",
   "execution_count": 220,
   "metadata": {},
   "outputs": [],
   "source": [
    "data_path = \"/home/maksim/Documents/data_art.csv\"\n",
    "data = pd.read_csv(data_path)"
   ]
  },
  {
   "cell_type": "code",
   "execution_count": 223,
   "metadata": {
    "scrolled": true
   },
   "outputs": [],
   "source": [
    "data = data[pd.notna(data.Image)]"
   ]
  },
  {
   "cell_type": "code",
   "execution_count": 224,
   "metadata": {},
   "outputs": [],
   "source": [
    "data.reset_index(drop=True, inplace=True)"
   ]
  },
  {
   "cell_type": "code",
   "execution_count": 305,
   "metadata": {
    "scrolled": false
   },
   "outputs": [],
   "source": [
    "from selenium import webdriver\n",
    "from selenium.webdriver.common.by import By\n",
    "from selenium.webdriver.support import expected_conditions as EC\n",
    "from selenium.webdriver.support.ui import WebDriverWait\n",
    "from selenium.common.exceptions import WebDriverException\n",
    "import re\n",
    "\n",
    "def download_images(data, path_to_save, driver_path):\n",
    "    driver = webdriver.Firefox(executable_path=driver_path)\n",
    "    driver.maximize_window()\n",
    "    paths = []\n",
    "    for url in data.Image:\n",
    "        try:\n",
    "            driver.get(url)\n",
    "            WebDriverWait(driver, 10).until(\n",
    "            EC.element_to_be_clickable((By.TAG_NAME, \"img\")))\n",
    "            row = data[data.Image == url]\n",
    "            suffix = str(row.Author.values[0]) + \",\" + str(row.Art.values[0]) + \",\" + str(row.year.values[0])\n",
    "            if len(suffix) > 100:\n",
    "                suffix = suffix[:100]\n",
    "            filename = path_to_save + re.escape(suffix.replace(\"/\",\";\"))\n",
    "            with open(filename, 'wb') as file:\n",
    "                file.write(driver.find_element_by_tag_name('img').screenshot_as_png)\n",
    "            paths.append(filename)\n",
    "        except WebDriverException:\n",
    "            paths.append(\"None\")\n",
    "            continue\n",
    "    driver.close()\n",
    "    return paths"
   ]
  },
  {
   "cell_type": "code",
   "execution_count": 327,
   "metadata": {
    "scrolled": true
   },
   "outputs": [],
   "source": [
    "paths = download_images(data, path_to_save=\"/home/maksim/Art_Images/\", driver_path=\"/home/maksim/geckodriver\")"
   ]
  },
  {
   "cell_type": "code",
   "execution_count": 340,
   "metadata": {},
   "outputs": [],
   "source": [
    "import pickle\n",
    "data.to_pickle(\"/home/maksim/Documents/data_with_paths_2.pkl\")"
   ]
  },
  {
   "cell_type": "code",
   "execution_count": 13,
   "metadata": {},
   "outputs": [],
   "source": [
    "import pickle\n",
    "unpickled_df = pd.read_pickle(\"/home/maksim/Documents/data_with_paths.pkl\")"
   ]
  },
  {
   "cell_type": "code",
   "execution_count": 14,
   "metadata": {},
   "outputs": [],
   "source": [
    "df = unpickled_df.drop_duplicates(subset=['Paths'])\n",
    "df = df[(pd.notna(df.Paths)) & (df.Paths != \"None\")]"
   ]
  },
  {
   "cell_type": "code",
   "execution_count": 15,
   "metadata": {},
   "outputs": [],
   "source": [
    "df.reset_index(drop=True, inplace=True)"
   ]
  },
  {
   "cell_type": "code",
   "execution_count": 23,
   "metadata": {
    "scrolled": true
   },
   "outputs": [],
   "source": [
    "%matplotlib inline\n",
    "\n",
    "import cv2\n",
    "from matplotlib import pyplot as plt\n",
    "\n",
    "\n",
    "def print_image(path):\n",
    "    image = cv2.imread(path)\n",
    "    plt.imshow(image)\n",
    "    plt.show()"
   ]
  },
  {
   "cell_type": "code",
   "execution_count": 17,
   "metadata": {},
   "outputs": [],
   "source": [
    "def crop(image):\n",
    "    image = image[1: image.shape[1] - 1, 1 : image.shape[0] - 1]\n",
    "    height, width = image.shape[:2]\n",
    "    u, d, l, r = 0, 0, 0, 0\n",
    "    while(np.mean(image[:, l]) > 254):\n",
    "        l += 1\n",
    "    while(np.mean(image[:, width - r - 1]) > 254):\n",
    "        r += 1\n",
    "    while(np.mean(image[u]) > 254):\n",
    "        u += 1\n",
    "    while(np.mean(image[height - d - 1]) > 254):\n",
    "        d += 1\n",
    "    return image[u:height - d - 1,l: width - r - 1]\n",
    "    "
   ]
  },
  {
   "cell_type": "code",
   "execution_count": 18,
   "metadata": {
    "collapsed": true
   },
   "outputs": [
    {
     "data": {
      "text/plain": [
       "array([[[245, 250, 250],\n",
       "        [241, 250, 250],\n",
       "        [237, 249, 250],\n",
       "        ...,\n",
       "        [241, 250, 250],\n",
       "        [238, 250, 250],\n",
       "        [241, 250, 250]],\n",
       "\n",
       "       [[180, 191, 191],\n",
       "        [160, 177, 180],\n",
       "        [156, 176, 181],\n",
       "        ...,\n",
       "        [161, 181, 189],\n",
       "        [160, 177, 183],\n",
       "        [168, 181, 184]],\n",
       "\n",
       "       [[179, 192, 194],\n",
       "        [158, 180, 185],\n",
       "        [151, 180, 185],\n",
       "        ...,\n",
       "        [156, 180, 194],\n",
       "        [156, 179, 185],\n",
       "        [165, 181, 186]],\n",
       "\n",
       "       ...,\n",
       "\n",
       "       [[189, 201, 204],\n",
       "        [170, 192, 198],\n",
       "        [162, 190, 197],\n",
       "        ...,\n",
       "        [176, 195, 207],\n",
       "        [175, 195, 203],\n",
       "        [182, 196, 202]],\n",
       "\n",
       "       [[190, 201, 203],\n",
       "        [172, 191, 196],\n",
       "        [165, 189, 195],\n",
       "        ...,\n",
       "        [174, 194, 208],\n",
       "        [177, 195, 202],\n",
       "        [185, 196, 202]],\n",
       "\n",
       "       [[192, 200, 200],\n",
       "        [176, 191, 194],\n",
       "        [169, 188, 193],\n",
       "        ...,\n",
       "        [179, 194, 204],\n",
       "        [183, 195, 201],\n",
       "        [187, 196, 200]]], dtype=uint8)"
      ]
     },
     "execution_count": 18,
     "metadata": {},
     "output_type": "execute_result"
    }
   ],
   "source": [
    "crop(cv2.imread(df.Paths[17]))"
   ]
  },
  {
   "cell_type": "code",
   "execution_count": 19,
   "metadata": {},
   "outputs": [],
   "source": [
    "def crop_and_save_image(path):\n",
    "    image = cv2.imread(path)\n",
    "    new_image = crop(image)\n",
    "    filename = \"/home/maksim/Art_Images_cropped/\" + path[path.rfind(\"/\") + 1:] + \".jpg\"\n",
    "    cv2.imwrite(filename, new_image)\n",
    "    return filename"
   ]
  },
  {
   "cell_type": "code",
   "execution_count": 20,
   "metadata": {},
   "outputs": [],
   "source": [
    "paths_cropped = df.Paths.apply(crop_and_save_image)"
   ]
  },
  {
   "cell_type": "code",
   "execution_count": 21,
   "metadata": {
    "scrolled": true
   },
   "outputs": [],
   "source": [
    "import pickle\n",
    "paths_cropped.to_pickle(\"/home/maksim/Documents/paths_cropped.pkl\")"
   ]
  },
  {
   "cell_type": "code",
   "execution_count": 22,
   "metadata": {},
   "outputs": [
    {
     "data": {
      "text/plain": [
       "0        /home/maksim/Art_Images_cropped/alberto\\ giaco...\n",
       "1        /home/maksim/Art_Images_cropped/alberto\\ giaco...\n",
       "2        /home/maksim/Art_Images_cropped/alberto\\ giaco...\n",
       "3        /home/maksim/Art_Images_cropped/alberto\\ giaco...\n",
       "4        /home/maksim/Art_Images_cropped/alberto\\ giaco...\n",
       "                               ...                        \n",
       "12522    /home/maksim/Art_Images_cropped/zhang\\ xiaogan...\n",
       "12523    /home/maksim/Art_Images_cropped/zhang\\ xiaogan...\n",
       "12524    /home/maksim/Art_Images_cropped/zhang\\ xiaogan...\n",
       "12525    /home/maksim/Art_Images_cropped/zhang\\ xiaogan...\n",
       "12526    /home/maksim/Art_Images_cropped/zhou\\ zhimian,...\n",
       "Name: Paths, Length: 12527, dtype: object"
      ]
     },
     "execution_count": 22,
     "metadata": {},
     "output_type": "execute_result"
    }
   ],
   "source": [
    "paths_cropped"
   ]
  },
  {
   "cell_type": "code",
   "execution_count": 31,
   "metadata": {},
   "outputs": [],
   "source": [
    "del df['Paths']"
   ]
  },
  {
   "cell_type": "code",
   "execution_count": 39,
   "metadata": {
    "scrolled": true
   },
   "outputs": [],
   "source": [
    "df = df.join(paths_cropped)"
   ]
  },
  {
   "cell_type": "code",
   "execution_count": 43,
   "metadata": {},
   "outputs": [],
   "source": [
    "import pickle\n",
    "df.to_pickle(\"/home/maksim/Documents/Art_dataset\")"
   ]
  },
  {
   "cell_type": "code",
   "execution_count": null,
   "metadata": {},
   "outputs": [],
   "source": []
  }
 ],
 "metadata": {
  "kernelspec": {
   "display_name": "Python 3",
   "language": "python",
   "name": "python3"
  },
  "language_info": {
   "codemirror_mode": {
    "name": "ipython",
    "version": 3
   },
   "file_extension": ".py",
   "mimetype": "text/x-python",
   "name": "python",
   "nbconvert_exporter": "python",
   "pygments_lexer": "ipython3",
   "version": "3.8.5"
  }
 },
 "nbformat": 4,
 "nbformat_minor": 4
}
